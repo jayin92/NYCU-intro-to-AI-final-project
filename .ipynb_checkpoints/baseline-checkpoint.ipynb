{
 "cells": [
  {
   "cell_type": "markdown",
   "id": "a3d75bce",
   "metadata": {
    "papermill": {
     "duration": 0.035032,
     "end_time": "2022-02-23T11:38:04.769078",
     "exception": false,
     "start_time": "2022-02-23T11:38:04.734046",
     "status": "completed"
    },
    "tags": []
   },
   "source": [
    "This notebook presents some code to compute some basic baselines.\n",
    "\n",
    "In particular, it shows how to:\n",
    "1. Use the provided validation set\n",
    "2. Compute the top-30 metric\n",
    "3. Save the predictions on the test in the right format for submission"
   ]
  },
  {
   "cell_type": "code",
   "execution_count": 1,
   "id": "217d60fa",
   "metadata": {
    "ExecuteTime": {
     "end_time": "2022-02-15T15:34:34.825855Z",
     "start_time": "2022-02-15T15:34:33.902797Z"
    },
    "execution": {
     "iopub.execute_input": "2022-02-23T11:38:04.841189Z",
     "iopub.status.busy": "2022-02-23T11:38:04.839394Z",
     "iopub.status.idle": "2022-02-23T11:38:08.197921Z",
     "shell.execute_reply": "2022-02-23T11:38:08.197025Z",
     "shell.execute_reply.started": "2022-02-23T11:28:26.657089Z"
    },
    "papermill": {
     "duration": 3.39579,
     "end_time": "2022-02-23T11:38:08.198110",
     "exception": false,
     "start_time": "2022-02-23T11:38:04.802320",
     "status": "completed"
    },
    "tags": []
   },
   "outputs": [
    {
     "name": "stdout",
     "output_type": "stream",
     "text": [
      "Populating the interactive namespace from numpy and matplotlib\n",
      "Cloning into 'GLC'...\r\n",
      "remote: Enumerating objects: 372, done.\u001b[K\r\n",
      "remote: Counting objects: 100% (217/217), done.\u001b[K\r\n",
      "remote: Compressing objects: 100% (151/151), done.\u001b[K\r\n",
      "remote: Total 372 (delta 111), reused 164 (delta 60), pack-reused 155\u001b[K\r\n",
      "Receiving objects: 100% (372/372), 10.57 MiB | 18.92 MiB/s, done.\r\n",
      "Resolving deltas: 100% (197/197), done.\r\n"
     ]
    }
   ],
   "source": [
    "%pylab inline --no-import-all\n",
    "\n",
    "import os\n",
    "from pathlib import Path\n",
    "\n",
    "import pandas as pd\n",
    "\n",
    "\n",
    "# Change this path to adapt to where you downloaded the data\n",
    "DATA_PATH = Path(\"../input/geolifeclef-2022-lifeclef-2022-fgvc9\")\n",
    "\n",
    "# Create the path to save submission files\n",
    "SUBMISSION_PATH = Path(\"submissions\")\n",
    "os.makedirs(SUBMISSION_PATH, exist_ok=True)\n",
    "\n",
    "# Clone the GitHub repository\n",
    "!rm -rf GLC\n",
    "!git clone https://github.com/maximiliense/GLC"
   ]
  },
  {
   "cell_type": "markdown",
   "id": "8db38db3",
   "metadata": {
    "papermill": {
     "duration": 0.03902,
     "end_time": "2022-02-23T11:38:08.277101",
     "exception": false,
     "start_time": "2022-02-23T11:38:08.238081",
     "status": "completed"
    },
    "tags": []
   },
   "source": [
    "We also load the official metric, top-30 error rate, for which we provide efficient implementations:"
   ]
  },
  {
   "cell_type": "code",
   "execution_count": 2,
   "id": "8d05315c",
   "metadata": {
    "ExecuteTime": {
     "end_time": "2022-02-15T15:34:34.831795Z",
     "start_time": "2022-02-15T15:34:34.827913Z"
    },
    "execution": {
     "iopub.execute_input": "2022-02-23T11:38:08.360707Z",
     "iopub.status.busy": "2022-02-23T11:38:08.359952Z",
     "iopub.status.idle": "2022-02-23T11:38:08.366312Z",
     "shell.execute_reply": "2022-02-23T11:38:08.365805Z",
     "shell.execute_reply.started": "2022-02-23T11:28:28.480929Z"
    },
    "papermill": {
     "duration": 0.050363,
     "end_time": "2022-02-23T11:38:08.366495",
     "exception": false,
     "start_time": "2022-02-23T11:38:08.316132",
     "status": "completed"
    },
    "tags": []
   },
   "outputs": [
    {
     "name": "stdout",
     "output_type": "stream",
     "text": [
      "Help on function top_30_error_rate in module GLC.metrics:\n",
      "\n",
      "top_30_error_rate(y_true, y_score)\n",
      "    Computes the top-30 error rate.\n",
      "    \n",
      "    Parameters\n",
      "    ----------\n",
      "    y_true: 1d array, [n_samples]\n",
      "        True labels.\n",
      "    y_score: 2d array, [n_samples, n_classes]\n",
      "        Scores for each label.\n",
      "    \n",
      "    Returns\n",
      "    -------\n",
      "    float:\n",
      "        Top-30 error rate value.\n",
      "    \n",
      "    Notes\n",
      "    -----\n",
      "    Complexity: :math:`O( n_\\text{samples} \\times n_\\text{classes} )`.\n",
      "\n"
     ]
    }
   ],
   "source": [
    "from GLC.metrics import top_30_error_rate\n",
    "help(top_30_error_rate)"
   ]
  },
  {
   "cell_type": "code",
   "execution_count": 3,
   "id": "f090cf88",
   "metadata": {
    "ExecuteTime": {
     "end_time": "2022-02-15T15:34:34.840459Z",
     "start_time": "2022-02-15T15:34:34.833489Z"
    },
    "execution": {
     "iopub.execute_input": "2022-02-23T11:38:08.456980Z",
     "iopub.status.busy": "2022-02-23T11:38:08.456229Z",
     "iopub.status.idle": "2022-02-23T11:38:08.459096Z",
     "shell.execute_reply": "2022-02-23T11:38:08.459634Z",
     "shell.execute_reply.started": "2022-02-23T11:28:28.493109Z"
    },
    "papermill": {
     "duration": 0.049132,
     "end_time": "2022-02-23T11:38:08.459831",
     "exception": false,
     "start_time": "2022-02-23T11:38:08.410699",
     "status": "completed"
    },
    "tags": []
   },
   "outputs": [
    {
     "name": "stdout",
     "output_type": "stream",
     "text": [
      "Help on function top_k_error_rate_from_sets in module GLC.metrics:\n",
      "\n",
      "top_k_error_rate_from_sets(y_true, s_pred)\n",
      "    Computes the top-k error rate from predicted sets.\n",
      "    \n",
      "    Parameters\n",
      "    ----------\n",
      "    y_true: 1d array, [n_samples]\n",
      "        True labels.\n",
      "    s_pred: 2d array, [n_samples, k]\n",
      "        Previously computed top-k sets for each sample.\n",
      "    \n",
      "    Returns\n",
      "    -------\n",
      "    float:\n",
      "        Error rate value.\n",
      "\n"
     ]
    }
   ],
   "source": [
    "from GLC.metrics import top_k_error_rate_from_sets\n",
    "help(top_k_error_rate_from_sets)"
   ]
  },
  {
   "cell_type": "markdown",
   "id": "eb6e7629",
   "metadata": {
    "papermill": {
     "duration": 0.039781,
     "end_time": "2022-02-23T11:38:08.540418",
     "exception": false,
     "start_time": "2022-02-23T11:38:08.500637",
     "status": "completed"
    },
    "tags": []
   },
   "source": [
    "For submissions, we will also need to predict the top-30 sets for which we also provide an efficient implementation:"
   ]
  },
  {
   "cell_type": "code",
   "execution_count": 4,
   "id": "944a70fa",
   "metadata": {
    "ExecuteTime": {
     "end_time": "2022-02-15T15:34:34.850192Z",
     "start_time": "2022-02-15T15:34:34.843048Z"
    },
    "execution": {
     "iopub.execute_input": "2022-02-23T11:38:08.626427Z",
     "iopub.status.busy": "2022-02-23T11:38:08.625751Z",
     "iopub.status.idle": "2022-02-23T11:38:08.629990Z",
     "shell.execute_reply": "2022-02-23T11:38:08.630626Z",
     "shell.execute_reply.started": "2022-02-23T11:28:28.500414Z"
    },
    "papermill": {
     "duration": 0.049804,
     "end_time": "2022-02-23T11:38:08.630829",
     "exception": false,
     "start_time": "2022-02-23T11:38:08.581025",
     "status": "completed"
    },
    "tags": []
   },
   "outputs": [
    {
     "name": "stdout",
     "output_type": "stream",
     "text": [
      "Help on function predict_top_30_set in module GLC.metrics:\n",
      "\n",
      "predict_top_30_set(y_score)\n",
      "    Predicts the top-30 sets from scores.\n",
      "    \n",
      "    Parameters\n",
      "    ----------\n",
      "    y_score: 2d array, [n_samples, n_classes]\n",
      "        Scores for each sample and label.\n",
      "    \n",
      "    Returns\n",
      "    -------\n",
      "    2d array, [n_samples, 30]:\n",
      "        Predicted top-30 sets for each sample.\n",
      "    \n",
      "    Notes\n",
      "    -----\n",
      "    Complexity: :math:`O( n_\\text{samples} \\times n_\\text{classes} )`.\n",
      "\n"
     ]
    }
   ],
   "source": [
    "from GLC.metrics import predict_top_30_set\n",
    "help(predict_top_30_set)"
   ]
  },
  {
   "cell_type": "markdown",
   "id": "c3a2a83d",
   "metadata": {
    "papermill": {
     "duration": 0.040366,
     "end_time": "2022-02-23T11:38:08.711849",
     "exception": false,
     "start_time": "2022-02-23T11:38:08.671483",
     "status": "completed"
    },
    "tags": []
   },
   "source": [
    "We also provide an utility function to generate submission files in the right format:"
   ]
  },
  {
   "cell_type": "code",
   "execution_count": 5,
   "id": "6da39813",
   "metadata": {
    "execution": {
     "iopub.execute_input": "2022-02-23T11:38:08.797028Z",
     "iopub.status.busy": "2022-02-23T11:38:08.796319Z",
     "iopub.status.idle": "2022-02-23T11:38:08.802431Z",
     "shell.execute_reply": "2022-02-23T11:38:08.802957Z",
     "shell.execute_reply.started": "2022-02-23T11:28:28.511701Z"
    },
    "papermill": {
     "duration": 0.050173,
     "end_time": "2022-02-23T11:38:08.803169",
     "exception": false,
     "start_time": "2022-02-23T11:38:08.752996",
     "status": "completed"
    },
    "tags": []
   },
   "outputs": [
    {
     "name": "stdout",
     "output_type": "stream",
     "text": [
      "Help on function generate_submission_file in module GLC.submission:\n",
      "\n",
      "generate_submission_file(filename, observation_ids, s_pred)\n",
      "    Generate submission file for Kaggle\n",
      "    \n",
      "    Parameters\n",
      "    ----------\n",
      "    filename : string\n",
      "        Submission filename.\n",
      "    observation_ids : 1d array-like\n",
      "        Test observations ids\n",
      "    s_pred : list of 1d array-like\n",
      "        Set predictions for test observations.\n",
      "\n"
     ]
    }
   ],
   "source": [
    "from GLC.submission import generate_submission_file\n",
    "help(generate_submission_file)"
   ]
  },
  {
   "cell_type": "markdown",
   "id": "73584453",
   "metadata": {
    "papermill": {
     "duration": 0.041185,
     "end_time": "2022-02-23T11:38:08.886304",
     "exception": false,
     "start_time": "2022-02-23T11:38:08.845119",
     "status": "completed"
    },
    "tags": []
   },
   "source": [
    "# Observation data loading"
   ]
  },
  {
   "cell_type": "markdown",
   "id": "63d69027",
   "metadata": {
    "papermill": {
     "duration": 0.041447,
     "end_time": "2022-02-23T11:38:08.968788",
     "exception": false,
     "start_time": "2022-02-23T11:38:08.927341",
     "status": "completed"
    },
    "tags": []
   },
   "source": [
    "We first need to load the observation data:"
   ]
  },
  {
   "cell_type": "code",
   "execution_count": 6,
   "id": "73b616a2",
   "metadata": {
    "ExecuteTime": {
     "end_time": "2022-02-15T15:34:35.686811Z",
     "start_time": "2022-02-15T15:34:34.851926Z"
    },
    "execution": {
     "iopub.execute_input": "2022-02-23T11:38:09.058727Z",
     "iopub.status.busy": "2022-02-23T11:38:09.058044Z",
     "iopub.status.idle": "2022-02-23T11:38:11.302221Z",
     "shell.execute_reply": "2022-02-23T11:38:11.301620Z",
     "shell.execute_reply.started": "2022-02-23T11:28:28.525885Z"
    },
    "papermill": {
     "duration": 2.293277,
     "end_time": "2022-02-23T11:38:11.302480",
     "exception": false,
     "start_time": "2022-02-23T11:38:09.009203",
     "status": "completed"
    },
    "tags": []
   },
   "outputs": [],
   "source": [
    "df_obs_fr = pd.read_csv(DATA_PATH / \"observations\" / \"observations_fr_train.csv\", sep=\";\", index_col=\"observation_id\")\n",
    "df_obs_us = pd.read_csv(DATA_PATH / \"observations\" / \"observations_us_train.csv\", sep=\";\", index_col=\"observation_id\")\n",
    "df_obs = pd.concat((df_obs_fr, df_obs_us))"
   ]
  },
  {
   "cell_type": "markdown",
   "id": "6799eaa2",
   "metadata": {
    "papermill": {
     "duration": 0.040901,
     "end_time": "2022-02-23T11:38:11.387241",
     "exception": false,
     "start_time": "2022-02-23T11:38:11.346340",
     "status": "completed"
    },
    "tags": []
   },
   "source": [
    "Then, we retrieve the train/val split provided:"
   ]
  },
  {
   "cell_type": "code",
   "execution_count": 7,
   "id": "0980f117",
   "metadata": {
    "ExecuteTime": {
     "end_time": "2022-02-15T15:34:36.13279Z",
     "start_time": "2022-02-15T15:34:35.688156Z"
    },
    "execution": {
     "iopub.execute_input": "2022-02-23T11:38:11.741847Z",
     "iopub.status.busy": "2022-02-23T11:38:11.479327Z",
     "iopub.status.idle": "2022-02-23T11:38:12.478068Z",
     "shell.execute_reply": "2022-02-23T11:38:12.477387Z",
     "shell.execute_reply.started": "2022-02-23T11:28:30.593308Z"
    },
    "papermill": {
     "duration": 1.049286,
     "end_time": "2022-02-23T11:38:12.478234",
     "exception": false,
     "start_time": "2022-02-23T11:38:11.428948",
     "status": "completed"
    },
    "tags": []
   },
   "outputs": [
    {
     "name": "stdout",
     "output_type": "stream",
     "text": [
      "Validation set size: 40080 (2.5% of train observations)\n"
     ]
    }
   ],
   "source": [
    "obs_id_train = df_obs.index[df_obs[\"subset\"] == \"train\"].values\n",
    "obs_id_val = df_obs.index[df_obs[\"subset\"] == \"val\"].values\n",
    "\n",
    "y_train = df_obs.loc[obs_id_train][\"species_id\"].values\n",
    "y_val = df_obs.loc[obs_id_val][\"species_id\"].values\n",
    "\n",
    "n_val = len(obs_id_val)\n",
    "print(\"Validation set size: {} ({:.1%} of train observations)\".format(n_val, n_val / len(df_obs)))"
   ]
  },
  {
   "cell_type": "markdown",
   "id": "d23deda7",
   "metadata": {
    "papermill": {
     "duration": 0.042843,
     "end_time": "2022-02-23T11:38:12.564680",
     "exception": false,
     "start_time": "2022-02-23T11:38:12.521837",
     "status": "completed"
    },
    "tags": []
   },
   "source": [
    "We also load the observation data for the test set:"
   ]
  },
  {
   "cell_type": "code",
   "execution_count": 8,
   "id": "323ca280",
   "metadata": {
    "ExecuteTime": {
     "end_time": "2022-02-15T15:34:36.16918Z",
     "start_time": "2022-02-15T15:34:36.134721Z"
    },
    "execution": {
     "iopub.execute_input": "2022-02-23T11:38:12.660231Z",
     "iopub.status.busy": "2022-02-23T11:38:12.659525Z",
     "iopub.status.idle": "2022-02-23T11:38:12.742182Z",
     "shell.execute_reply": "2022-02-23T11:38:12.741535Z",
     "shell.execute_reply.started": "2022-02-23T11:28:31.470732Z"
    },
    "papermill": {
     "duration": 0.131649,
     "end_time": "2022-02-23T11:38:12.742334",
     "exception": false,
     "start_time": "2022-02-23T11:38:12.610685",
     "status": "completed"
    },
    "tags": []
   },
   "outputs": [
    {
     "name": "stdout",
     "output_type": "stream",
     "text": [
      "Number of observations for testing: 36421\n"
     ]
    },
    {
     "data": {
      "text/html": [
       "<div>\n",
       "<style scoped>\n",
       "    .dataframe tbody tr th:only-of-type {\n",
       "        vertical-align: middle;\n",
       "    }\n",
       "\n",
       "    .dataframe tbody tr th {\n",
       "        vertical-align: top;\n",
       "    }\n",
       "\n",
       "    .dataframe thead th {\n",
       "        text-align: right;\n",
       "    }\n",
       "</style>\n",
       "<table border=\"1\" class=\"dataframe\">\n",
       "  <thead>\n",
       "    <tr style=\"text-align: right;\">\n",
       "      <th></th>\n",
       "      <th>latitude</th>\n",
       "      <th>longitude</th>\n",
       "    </tr>\n",
       "    <tr>\n",
       "      <th>observation_id</th>\n",
       "      <th></th>\n",
       "      <th></th>\n",
       "    </tr>\n",
       "  </thead>\n",
       "  <tbody>\n",
       "    <tr>\n",
       "      <th>10782781</th>\n",
       "      <td>43.601788</td>\n",
       "      <td>6.940195</td>\n",
       "    </tr>\n",
       "    <tr>\n",
       "      <th>10364138</th>\n",
       "      <td>46.241711</td>\n",
       "      <td>0.683586</td>\n",
       "    </tr>\n",
       "    <tr>\n",
       "      <th>10692017</th>\n",
       "      <td>45.181095</td>\n",
       "      <td>1.533459</td>\n",
       "    </tr>\n",
       "    <tr>\n",
       "      <th>10222322</th>\n",
       "      <td>46.938450</td>\n",
       "      <td>5.298678</td>\n",
       "    </tr>\n",
       "    <tr>\n",
       "      <th>10241950</th>\n",
       "      <td>45.017433</td>\n",
       "      <td>0.960736</td>\n",
       "    </tr>\n",
       "  </tbody>\n",
       "</table>\n",
       "</div>"
      ],
      "text/plain": [
       "                 latitude  longitude\n",
       "observation_id                      \n",
       "10782781        43.601788   6.940195\n",
       "10364138        46.241711   0.683586\n",
       "10692017        45.181095   1.533459\n",
       "10222322        46.938450   5.298678\n",
       "10241950        45.017433   0.960736"
      ]
     },
     "execution_count": 8,
     "metadata": {},
     "output_type": "execute_result"
    }
   ],
   "source": [
    "df_obs_fr_test = pd.read_csv(DATA_PATH / \"observations\" / \"observations_fr_test.csv\", sep=\";\", index_col=\"observation_id\")\n",
    "df_obs_us_test = pd.read_csv(DATA_PATH / \"observations\" / \"observations_us_test.csv\", sep=\";\", index_col=\"observation_id\")\n",
    "\n",
    "df_obs_test = pd.concat((df_obs_fr_test, df_obs_us_test))\n",
    "\n",
    "obs_id_test = df_obs_test.index.values\n",
    "\n",
    "print(\"Number of observations for testing: {}\".format(len(df_obs_test)))\n",
    "\n",
    "df_obs_test.head()"
   ]
  },
  {
   "cell_type": "markdown",
   "id": "9ca44abd",
   "metadata": {
    "papermill": {
     "duration": 0.041424,
     "end_time": "2022-02-23T11:38:12.826710",
     "exception": false,
     "start_time": "2022-02-23T11:38:12.785286",
     "status": "completed"
    },
    "tags": []
   },
   "source": [
    "# Sample submission file\n",
    "\n",
    "In this section, we will demonstrate how to generate the sample submission file provided.\n",
    "\n",
    "To do so, we will use the function `generate_submission_file` from `GLC.submission`."
   ]
  },
  {
   "cell_type": "markdown",
   "id": "7e5725df",
   "metadata": {
    "papermill": {
     "duration": 0.041929,
     "end_time": "2022-02-23T11:38:12.911064",
     "exception": false,
     "start_time": "2022-02-23T11:38:12.869135",
     "status": "completed"
    },
    "tags": []
   },
   "source": [
    "The sample submission consists in always predicting the first 30 species for all the test observations:"
   ]
  },
  {
   "cell_type": "code",
   "execution_count": 9,
   "id": "9ec15c41",
   "metadata": {
    "ExecuteTime": {
     "end_time": "2022-02-15T15:34:36.18507Z",
     "start_time": "2022-02-15T15:34:36.176395Z"
    },
    "execution": {
     "iopub.execute_input": "2022-02-23T11:38:13.008295Z",
     "iopub.status.busy": "2022-02-23T11:38:13.007635Z",
     "iopub.status.idle": "2022-02-23T11:38:13.011101Z",
     "shell.execute_reply": "2022-02-23T11:38:13.010477Z",
     "shell.execute_reply.started": "2022-02-23T11:28:31.544702Z"
    },
    "papermill": {
     "duration": 0.058245,
     "end_time": "2022-02-23T11:38:13.011239",
     "exception": false,
     "start_time": "2022-02-23T11:38:12.952994",
     "status": "completed"
    },
    "tags": []
   },
   "outputs": [],
   "source": [
    "first_30_species = np.arange(30)\n",
    "s_pred = np.tile(first_30_species[None], (len(df_obs_test), 1))"
   ]
  },
  {
   "cell_type": "markdown",
   "id": "379d3320",
   "metadata": {
    "papermill": {
     "duration": 0.047926,
     "end_time": "2022-02-23T11:38:13.102587",
     "exception": false,
     "start_time": "2022-02-23T11:38:13.054661",
     "status": "completed"
    },
    "tags": []
   },
   "source": [
    "We can then generate the associated submission file using:"
   ]
  },
  {
   "cell_type": "code",
   "execution_count": 10,
   "id": "a0d99701",
   "metadata": {
    "ExecuteTime": {
     "end_time": "2022-02-15T15:34:36.873681Z",
     "start_time": "2022-02-15T15:34:36.188032Z"
    },
    "execution": {
     "iopub.execute_input": "2022-02-23T11:38:13.193557Z",
     "iopub.status.busy": "2022-02-23T11:38:13.192780Z",
     "iopub.status.idle": "2022-02-23T11:38:14.387537Z",
     "shell.execute_reply": "2022-02-23T11:38:14.388066Z",
     "shell.execute_reply.started": "2022-02-23T11:28:31.555491Z"
    },
    "papermill": {
     "duration": 1.242551,
     "end_time": "2022-02-23T11:38:14.388303",
     "exception": false,
     "start_time": "2022-02-23T11:38:13.145752",
     "status": "completed"
    },
    "tags": []
   },
   "outputs": [],
   "source": [
    "generate_submission_file(SUBMISSION_PATH / \"sample_submission.csv\", df_obs_test.index, s_pred)"
   ]
  },
  {
   "cell_type": "markdown",
   "id": "e68fbcd6",
   "metadata": {
    "papermill": {
     "duration": 0.043178,
     "end_time": "2022-02-23T11:38:14.474094",
     "exception": false,
     "start_time": "2022-02-23T11:38:14.430916",
     "status": "completed"
    },
    "tags": []
   },
   "source": [
    "# Constant baseline: 30 most observed species\n",
    "\n",
    "The first baseline consists in predicting the 30 most observed species on the train set which corresponds exactly to the \"Top-30 most present species\":"
   ]
  },
  {
   "cell_type": "code",
   "execution_count": 11,
   "id": "22a25885",
   "metadata": {
    "ExecuteTime": {
     "end_time": "2022-02-15T15:34:37.030364Z",
     "start_time": "2022-02-15T15:34:36.875285Z"
    },
    "execution": {
     "iopub.execute_input": "2022-02-23T11:38:14.591588Z",
     "iopub.status.busy": "2022-02-23T11:38:14.590413Z",
     "iopub.status.idle": "2022-02-23T11:38:14.868762Z",
     "shell.execute_reply": "2022-02-23T11:38:14.868128Z",
     "shell.execute_reply.started": "2022-02-23T11:28:32.673471Z"
    },
    "papermill": {
     "duration": 0.349753,
     "end_time": "2022-02-23T11:38:14.868950",
     "exception": false,
     "start_time": "2022-02-23T11:38:14.519197",
     "status": "completed"
    },
    "tags": []
   },
   "outputs": [],
   "source": [
    "species_distribution = df_obs.loc[obs_id_train][\"species_id\"].value_counts(normalize=True)\n",
    "top_30_most_observed = species_distribution.index.values[:30]"
   ]
  },
  {
   "cell_type": "markdown",
   "id": "a64177d9",
   "metadata": {
    "papermill": {
     "duration": 0.045348,
     "end_time": "2022-02-23T11:38:14.957126",
     "exception": false,
     "start_time": "2022-02-23T11:38:14.911778",
     "status": "completed"
    },
    "tags": []
   },
   "source": [
    "As expected, it does not perform very well on the validation set:"
   ]
  },
  {
   "cell_type": "code",
   "execution_count": 12,
   "id": "bd2cbf85",
   "metadata": {
    "ExecuteTime": {
     "end_time": "2022-02-15T15:34:37.043069Z",
     "start_time": "2022-02-15T15:34:37.032104Z"
    },
    "execution": {
     "iopub.execute_input": "2022-02-23T11:38:15.061590Z",
     "iopub.status.busy": "2022-02-23T11:38:15.052941Z",
     "iopub.status.idle": "2022-02-23T11:38:15.071059Z",
     "shell.execute_reply": "2022-02-23T11:38:15.071679Z",
     "shell.execute_reply.started": "2022-02-23T11:28:32.908288Z"
    },
    "papermill": {
     "duration": 0.069408,
     "end_time": "2022-02-23T11:38:15.071904",
     "exception": false,
     "start_time": "2022-02-23T11:38:15.002496",
     "status": "completed"
    },
    "tags": []
   },
   "outputs": [
    {
     "name": "stdout",
     "output_type": "stream",
     "text": [
      "Top-30 error rate: 93.5%\n"
     ]
    }
   ],
   "source": [
    "s_pred = np.tile(top_30_most_observed[None], (n_val, 1))\n",
    "score = top_k_error_rate_from_sets(y_val, s_pred)\n",
    "print(\"Top-30 error rate: {:.1%}\".format(score))"
   ]
  },
  {
   "cell_type": "markdown",
   "id": "6c511e76",
   "metadata": {
    "papermill": {
     "duration": 0.04233,
     "end_time": "2022-02-23T11:38:15.159349",
     "exception": false,
     "start_time": "2022-02-23T11:38:15.117019",
     "status": "completed"
    },
    "tags": []
   },
   "source": [
    "We will however generate the associated submission file on the test using:"
   ]
  },
  {
   "cell_type": "code",
   "execution_count": 13,
   "id": "3b1b6440",
   "metadata": {
    "ExecuteTime": {
     "end_time": "2022-02-15T15:34:37.762255Z",
     "start_time": "2022-02-15T15:34:37.044524Z"
    },
    "execution": {
     "iopub.execute_input": "2022-02-23T11:38:15.254250Z",
     "iopub.status.busy": "2022-02-23T11:38:15.253194Z",
     "iopub.status.idle": "2022-02-23T11:38:16.583863Z",
     "shell.execute_reply": "2022-02-23T11:38:16.583160Z",
     "shell.execute_reply.started": "2022-02-23T11:28:32.922907Z"
    },
    "papermill": {
     "duration": 1.379623,
     "end_time": "2022-02-23T11:38:16.584052",
     "exception": false,
     "start_time": "2022-02-23T11:38:15.204429",
     "status": "completed"
    },
    "tags": []
   },
   "outputs": [],
   "source": [
    "# Compute baseline on the test set\n",
    "n_test = len(df_obs_test)\n",
    "s_pred = np.tile(top_30_most_observed[None], (n_test, 1))\n",
    "\n",
    "# Generate the submission file\n",
    "generate_submission_file(SUBMISSION_PATH / \"constant_top_30_most_present_species_baseline.csv\", df_obs_test.index, s_pred)"
   ]
  },
  {
   "cell_type": "markdown",
   "id": "54d94c02",
   "metadata": {
    "papermill": {
     "duration": 0.044111,
     "end_time": "2022-02-23T11:38:16.672022",
     "exception": false,
     "start_time": "2022-02-23T11:38:16.627911",
     "status": "completed"
    },
    "tags": []
   },
   "source": [
    "# Random forest on environmental vectors\n",
    "\n",
    "A classical approach in ecology is to train Random Forests on environmental vectors.\n",
    "\n",
    "We show here how to do so using [scikit-learn](https://scikit-learn.org/).\n",
    "\n",
    "We start by loading the environmental vectors:"
   ]
  },
  {
   "cell_type": "code",
   "execution_count": 14,
   "id": "dd1bb787",
   "metadata": {
    "ExecuteTime": {
     "end_time": "2022-02-15T15:34:45.731902Z",
     "start_time": "2022-02-15T15:34:37.764022Z"
    },
    "execution": {
     "iopub.execute_input": "2022-02-23T11:38:16.762923Z",
     "iopub.status.busy": "2022-02-23T11:38:16.761855Z",
     "iopub.status.idle": "2022-02-23T11:38:32.249028Z",
     "shell.execute_reply": "2022-02-23T11:38:32.248282Z",
     "shell.execute_reply.started": "2022-02-23T11:28:34.082454Z"
    },
    "papermill": {
     "duration": 15.533405,
     "end_time": "2022-02-23T11:38:32.249196",
     "exception": false,
     "start_time": "2022-02-23T11:38:16.715791",
     "status": "completed"
    },
    "tags": []
   },
   "outputs": [
    {
     "name": "stderr",
     "output_type": "stream",
     "text": [
      "/opt/conda/lib/python3.7/site-packages/numpy/lib/arraysetops.py:583: FutureWarning: elementwise comparison failed; returning scalar instead, but in the future will perform elementwise comparison\n",
      "  mask |= (ar1 == a)\n"
     ]
    }
   ],
   "source": [
    "df_env = pd.read_csv(DATA_PATH / \"pre-extracted\" / \"environmental_vectors.csv\", sep=\";\", index_col=\"observation_id\")\n",
    "\n",
    "X_train = df_env.loc[obs_id_train].values\n",
    "X_val = df_env.loc[obs_id_val].values\n",
    "X_test = df_env.loc[obs_id_test].values"
   ]
  },
  {
   "cell_type": "markdown",
   "id": "4dde9c51",
   "metadata": {
    "papermill": {
     "duration": 0.042813,
     "end_time": "2022-02-23T11:38:32.335476",
     "exception": false,
     "start_time": "2022-02-23T11:38:32.292663",
     "status": "completed"
    },
    "tags": []
   },
   "source": [
    "Then, we need to handle properly the missing values.\n",
    "\n",
    "For instance, using `SimpleImputer`:"
   ]
  },
  {
   "cell_type": "code",
   "execution_count": 15,
   "id": "4550916e",
   "metadata": {
    "ExecuteTime": {
     "end_time": "2022-02-15T15:34:46.705147Z",
     "start_time": "2022-02-15T15:34:45.734104Z"
    },
    "execution": {
     "iopub.execute_input": "2022-02-23T11:38:32.426982Z",
     "iopub.status.busy": "2022-02-23T11:38:32.425949Z",
     "iopub.status.idle": "2022-02-23T11:38:34.451465Z",
     "shell.execute_reply": "2022-02-23T11:38:34.451982Z",
     "shell.execute_reply.started": "2022-02-23T11:28:42.052512Z"
    },
    "papermill": {
     "duration": 2.073617,
     "end_time": "2022-02-23T11:38:34.452173",
     "exception": false,
     "start_time": "2022-02-23T11:38:32.378556",
     "status": "completed"
    },
    "tags": []
   },
   "outputs": [],
   "source": [
    "from sklearn.impute import SimpleImputer\n",
    "imp = SimpleImputer(\n",
    "    missing_values=np.nan,\n",
    "    strategy=\"constant\",\n",
    "    fill_value=np.finfo(np.float32).min,\n",
    ")\n",
    "imp.fit(X_train)\n",
    "\n",
    "X_train = imp.transform(X_train)\n",
    "X_val = imp.transform(X_val)\n",
    "X_test = imp.transform(X_test)"
   ]
  },
  {
   "cell_type": "markdown",
   "id": "988091e4",
   "metadata": {
    "papermill": {
     "duration": 0.041619,
     "end_time": "2022-02-23T11:38:34.536881",
     "exception": false,
     "start_time": "2022-02-23T11:38:34.495262",
     "status": "completed"
    },
    "tags": []
   },
   "source": [
    "We can now start training our Random Forest (as there are a lot of observations, over 1.8M, this can take a while):"
   ]
  },
  {
   "cell_type": "code",
   "execution_count": 16,
   "id": "e65cdcf0",
   "metadata": {
    "ExecuteTime": {
     "end_time": "2022-02-15T15:37:23.045384Z",
     "start_time": "2022-02-15T15:34:46.706534Z"
    },
    "execution": {
     "iopub.execute_input": "2022-02-23T11:38:34.626652Z",
     "iopub.status.busy": "2022-02-23T11:38:34.625873Z",
     "iopub.status.idle": "2022-02-23T11:45:04.846605Z",
     "shell.execute_reply": "2022-02-23T11:45:04.847130Z",
     "shell.execute_reply.started": "2022-02-23T11:28:44.015827Z"
    },
    "papermill": {
     "duration": 390.268314,
     "end_time": "2022-02-23T11:45:04.847336",
     "exception": false,
     "start_time": "2022-02-23T11:38:34.579022",
     "status": "completed"
    },
    "tags": []
   },
   "outputs": [
    {
     "data": {
      "text/plain": [
       "RandomForestClassifier(max_depth=10, n_estimators=16, n_jobs=-1)"
      ]
     },
     "execution_count": 16,
     "metadata": {},
     "output_type": "execute_result"
    }
   ],
   "source": [
    "from sklearn.ensemble import RandomForestClassifier\n",
    "est = RandomForestClassifier(n_estimators=16, max_depth=10, n_jobs=-1)\n",
    "est.fit(X_train, y_train)"
   ]
  },
  {
   "cell_type": "markdown",
   "id": "5f773897",
   "metadata": {
    "papermill": {
     "duration": 0.044758,
     "end_time": "2022-02-23T11:45:04.938001",
     "exception": false,
     "start_time": "2022-02-23T11:45:04.893243",
     "status": "completed"
    },
    "tags": []
   },
   "source": [
    "As there are a lot of classes (over 17K), we need to be cautious when predicting the scores of the model.\n",
    "\n",
    "This can easily take more than 5Go on the validation set.\n",
    "\n",
    "For this reason, we will be predict the top-30 sets by batches using the following generic function:"
   ]
  },
  {
   "cell_type": "code",
   "execution_count": 17,
   "id": "f5af3a4c",
   "metadata": {
    "ExecuteTime": {
     "end_time": "2022-02-15T15:37:23.06365Z",
     "start_time": "2022-02-15T15:37:23.051514Z"
    },
    "execution": {
     "iopub.execute_input": "2022-02-23T11:45:05.033263Z",
     "iopub.status.busy": "2022-02-23T11:45:05.032403Z",
     "iopub.status.idle": "2022-02-23T11:45:05.039622Z",
     "shell.execute_reply": "2022-02-23T11:45:05.040112Z",
     "shell.execute_reply.started": "2022-02-23T11:34:16.435713Z"
    },
    "papermill": {
     "duration": 0.056377,
     "end_time": "2022-02-23T11:45:05.040287",
     "exception": false,
     "start_time": "2022-02-23T11:45:04.983910",
     "status": "completed"
    },
    "tags": []
   },
   "outputs": [],
   "source": [
    "def batch_predict(predict_func, X, batch_size=1024):\n",
    "    res = predict_func(X[:1])\n",
    "    n_samples, n_outputs, dtype = X.shape[0], res.shape[1], res.dtype\n",
    "    \n",
    "    preds = np.empty((n_samples, n_outputs), dtype=dtype)\n",
    "    \n",
    "    for i in range(0, len(X), batch_size):\n",
    "        X_batch = X[i:i+batch_size]\n",
    "        preds[i:i+batch_size] = predict_func(X_batch)\n",
    "            \n",
    "    return preds"
   ]
  },
  {
   "cell_type": "markdown",
   "id": "d218e139",
   "metadata": {
    "papermill": {
     "duration": 0.044842,
     "end_time": "2022-02-23T11:45:05.130752",
     "exception": false,
     "start_time": "2022-02-23T11:45:05.085910",
     "status": "completed"
    },
    "tags": []
   },
   "source": [
    "We can know compute the top-30 error rate on the validation set:"
   ]
  },
  {
   "cell_type": "code",
   "execution_count": 18,
   "id": "e53f481a",
   "metadata": {
    "ExecuteTime": {
     "end_time": "2022-02-15T15:38:04.919835Z",
     "start_time": "2022-02-15T15:37:23.068792Z"
    },
    "execution": {
     "iopub.execute_input": "2022-02-23T11:45:05.228869Z",
     "iopub.status.busy": "2022-02-23T11:45:05.227907Z",
     "iopub.status.idle": "2022-02-23T11:45:56.022744Z",
     "shell.execute_reply": "2022-02-23T11:45:56.023359Z",
     "shell.execute_reply.started": "2022-02-23T11:34:16.444711Z"
    },
    "papermill": {
     "duration": 50.84775,
     "end_time": "2022-02-23T11:45:56.023763",
     "exception": false,
     "start_time": "2022-02-23T11:45:05.176013",
     "status": "completed"
    },
    "tags": []
   },
   "outputs": [
    {
     "name": "stdout",
     "output_type": "stream",
     "text": [
      "Top-30 error rate: 80.0%\n"
     ]
    }
   ],
   "source": [
    "def predict_func(X):\n",
    "    y_score = est.predict_proba(X)\n",
    "    s_pred = predict_top_30_set(y_score)\n",
    "    return s_pred\n",
    "\n",
    "s_val = batch_predict(predict_func, X_val, batch_size=1024)\n",
    "score_val = top_k_error_rate_from_sets(y_val, s_val)\n",
    "print(\"Top-30 error rate: {:.1%}\".format(score_val))"
   ]
  },
  {
   "cell_type": "markdown",
   "id": "9c0c3ef6",
   "metadata": {
    "papermill": {
     "duration": 0.044977,
     "end_time": "2022-02-23T11:45:56.112606",
     "exception": false,
     "start_time": "2022-02-23T11:45:56.067629",
     "status": "completed"
    },
    "tags": []
   },
   "source": [
    "We now predict the top-30 sets on the test data and save them in a submission file:"
   ]
  },
  {
   "cell_type": "code",
   "execution_count": 19,
   "id": "b4b0b5f5",
   "metadata": {
    "ExecuteTime": {
     "end_time": "2022-02-15T15:38:44.086269Z",
     "start_time": "2022-02-15T15:38:04.921407Z"
    },
    "execution": {
     "iopub.execute_input": "2022-02-23T11:45:56.210405Z",
     "iopub.status.busy": "2022-02-23T11:45:56.209256Z",
     "iopub.status.idle": "2022-02-23T11:46:40.827516Z",
     "shell.execute_reply": "2022-02-23T11:46:40.826788Z",
     "shell.execute_reply.started": "2022-02-23T11:34:39.283439Z"
    },
    "papermill": {
     "duration": 44.670961,
     "end_time": "2022-02-23T11:46:40.827720",
     "exception": false,
     "start_time": "2022-02-23T11:45:56.156759",
     "status": "completed"
    },
    "tags": []
   },
   "outputs": [],
   "source": [
    "# Compute baseline on the test set\n",
    "s_pred = batch_predict(predict_func, X_test, batch_size=1024)\n",
    "\n",
    "# Generate the submission file\n",
    "generate_submission_file(SUBMISSION_PATH / \"random_forest_on_environmental_vectors.csv\", df_obs_test.index, s_pred)"
   ]
  },
  {
   "cell_type": "markdown",
   "id": "ce5e5292",
   "metadata": {
    "papermill": {
     "duration": 0.04367,
     "end_time": "2022-02-23T11:46:40.917333",
     "exception": false,
     "start_time": "2022-02-23T11:46:40.873663",
     "status": "completed"
    },
    "tags": []
   },
   "source": [
    "**Note that the baseline appearing on the leaderboard is a similar Random Forest of 100 trees and a max depth of 16.**"
   ]
  },
  {
   "cell_type": "code",
   "execution_count": null,
   "id": "dc732e29",
   "metadata": {
    "papermill": {
     "duration": 0.043938,
     "end_time": "2022-02-23T11:46:41.004884",
     "exception": false,
     "start_time": "2022-02-23T11:46:40.960946",
     "status": "completed"
    },
    "tags": []
   },
   "outputs": [],
   "source": []
  }
 ],
 "metadata": {
  "kernelspec": {
   "display_name": "Python 3",
   "language": "python",
   "name": "python3"
  },
  "language_info": {
   "codemirror_mode": {
    "name": "ipython",
    "version": 3
   },
   "file_extension": ".py",
   "mimetype": "text/x-python",
   "name": "python",
   "nbconvert_exporter": "python",
   "pygments_lexer": "ipython3",
   "version": "3.7.12"
  },
  "papermill": {
   "default_parameters": {},
   "duration": 527.730442,
   "end_time": "2022-02-23T11:46:42.367195",
   "environment_variables": {},
   "exception": null,
   "input_path": "__notebook__.ipynb",
   "output_path": "__notebook__.ipynb",
   "parameters": {},
   "start_time": "2022-02-23T11:37:54.636753",
   "version": "2.3.3"
  }
 },
 "nbformat": 4,
 "nbformat_minor": 5
}
